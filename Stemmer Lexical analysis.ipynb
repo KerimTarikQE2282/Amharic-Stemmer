{
 "cells": [
  {
   "cell_type": "code",
   "execution_count": 15,
   "id": "8b0d22b6",
   "metadata": {},
   "outputs": [],
   "source": [
    "import re\n",
    "\n",
    "common_amh_abbreveations = {\n",
    "  \"ት/ቤት\": \"ትምህርት ቤት\",\n",
    "  \"ት/ርት\": \"ትምህርት\",\n",
    "  \"ት/ክፍል\": \"ትምህርት ክፍል\",\n",
    "  \"ሃ/አለቃ\": \"ሃምሳ አለቃ\",\n",
    "  \"ሃ/ስላሴ\": \"ሃይለ ስላሴ\",\n",
    "  \"ደ/ዘይት\": \"ደብረ ዘይት\",\n",
    "  \"ደ/ታቦር\": \"ደብረ ታቦር\",\n",
    "  \"መ/ር\": \"መምህር\",\n",
    "  \"መ/ቤት\": \"መስሪያ ቤት\",\n",
    "  \"መ/አለቃ\": \"መቶ አለቃ\",\n",
    "  \"ክ/ከተማ\": \"ክፍለ ከተማ\",\n",
    "  \"ክ/ሀገር\": \"ክፍለ ሀገር\",\n",
    "  \"ወ/ር\": \"\",\n",
    "  \"ወ/ሮ\": \"ወይዘሮ\",\n",
    "  \"ወ/ሪት\": \"ወይዘሪት\",\n",
    "  \"ወ/ስላሴ\": \"ወልደ ስላሴ\",\n",
    "  \"ፍ/ስላሴ\": \"ፍቅረ ስላሴ\",\n",
    "  \"ፍ/ቤት\": \"ፍርድ ቤት\",\n",
    "  \"ጽ/ቤት\": \"ጽህፈት ቤት\",\n",
    "  \"ሲ/ር\": \"\",\n",
    "  \"ፕ/ር\": \"ፕሮፌሰር\",\n",
    "  \"ጠ/ሚንስትር\": \"ጠቅላይ ሚኒስተር\",\n",
    "  \"ዶ/ር\": \"ዶክተር\",\n",
    "  \"ገ/ገዮርጊስ\": \"\",\n",
    "  \"ቤ/ክርስትያን\": \"ቤተ ክርስትያን\",\n",
    "  \"ም/ስራ\": \"\",\n",
    "  \"ም/ቤት\": \"ምክር ቤተ\",\n",
    "  \"ተ/ሃይማኖት\": \"ተክለ ሃይማኖት\",\n",
    "  \"ሚ/ር\": \"ሚኒስትር\",\n",
    "  \"ኮ/ል\": \"ኮሎኔል\",\n",
    "  \"ሜ/ጀነራል\": \"ሜጀር ጀነራል\"\n",
    "}"
   ]
  },
  {
   "cell_type": "code",
   "execution_count": 20,
   "id": "20372718",
   "metadata": {},
   "outputs": [],
   "source": [
    "def lexAnalyze(corpus):\n",
    "    # Remove abbreviations\n",
    "    for key in common_amh_abbreveations:\n",
    "        regex = re.compile(re.escape(key))\n",
    "        corpus = regex.sub(common_amh_abbreveations[key], corpus)\n",
    "        # Remove punctuation, numbers, and hyphens\n",
    "    corpus = re.sub(r'[.\\?\"\\',/#!$%^&*;:፤።{}=\\-_`~()0-9፩፪፫፬፭፮፯፰፱፲፳፴፵፶፷፸፹፺፻]+', ' ', corpus)\n",
    "    # Remove extra spaces\n",
    "    corpus = re.sub(r'\\s{2,}', ' ', corpus)\n",
    "    return corpus"
   ]
  },
  {
   "cell_type": "code",
   "execution_count": 23,
   "id": "1eaeffa4",
   "metadata": {},
   "outputs": [
    {
     "name": "stdout",
     "output_type": "stream",
     "text": [
      "ሜጀር ጀነራል ኮሎኔል \n"
     ]
    }
   ],
   "source": [
    "print(lexAnalyze( 'ሜ/ጀነራል 12  \"ኮ/ል\"' ))"
   ]
  },
  {
   "cell_type": "code",
   "execution_count": null,
   "id": "b66c7f85",
   "metadata": {},
   "outputs": [],
   "source": []
  }
 ],
 "metadata": {
  "kernelspec": {
   "display_name": "Python 3 (ipykernel)",
   "language": "python",
   "name": "python3"
  },
  "language_info": {
   "codemirror_mode": {
    "name": "ipython",
    "version": 3
   },
   "file_extension": ".py",
   "mimetype": "text/x-python",
   "name": "python",
   "nbconvert_exporter": "python",
   "pygments_lexer": "ipython3",
   "version": "3.10.9"
  }
 },
 "nbformat": 4,
 "nbformat_minor": 5
}
